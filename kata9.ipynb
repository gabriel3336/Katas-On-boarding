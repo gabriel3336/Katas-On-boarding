{
 "cells": [
  {
   "cell_type": "code",
   "execution_count": 1,
   "metadata": {},
   "outputs": [],
   "source": [
    "def generate_report(main_tank, external_tank, hydrogen_tank):\n",
    "    total_average = (main_tank + external_tank + hydrogen_tank) / 3\n",
    "    return f\"\"\"Fuel Report:\n",
    "    Total Average: {total_average}%\n",
    "    Main tank: {main_tank}%\n",
    "    External tank: {external_tank}%\n",
    "    Hydrogen tank: {hydrogen_tank}% \n",
    "    \"\"\"\n",
    "\n",
    "    print(generate_report(50, 70, 30))\n",
    "\n",
    "def average(main_tank, external_tank, hydrogen_tank):\n",
    "    avg=(main_tank + external_tank + hydrogen_tank) / 3\n",
    "    return avg\n",
    "\n",
    "print(generate_report(60,80, 40))"
   ]
  }
 ],
 "metadata": {
  "interpreter": {
   "hash": "830985eacb3431f80dd331d7cf68565caaa0feba108020e0ff4bfc14f53ecaa3"
  },
  "kernelspec": {
   "display_name": "Python 3.10.2 64-bit",
   "language": "python",
   "name": "python3"
  },
  "language_info": {
   "codemirror_mode": {
    "name": "ipython",
    "version": 3
   },
   "file_extension": ".py",
   "mimetype": "text/x-python",
   "name": "python",
   "nbconvert_exporter": "python",
   "pygments_lexer": "ipython3",
   "version": "3.10.2"
  },
  "orig_nbformat": 4
 },
 "nbformat": 4,
 "nbformat_minor": 2
}
